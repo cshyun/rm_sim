{
 "metadata": {
  "name": "",
  "signature": "sha256:9e0daee42d8fc21ad376e0e6b316b557028a5f91103775b35ef89bffe2276a81"
 },
 "nbformat": 3,
 "nbformat_minor": 0,
 "worksheets": [
  {
   "cells": [
    {
     "cell_type": "heading",
     "level": 1,
     "metadata": {},
     "source": [
      "Python Essentials"
     ]
    },
    {
     "cell_type": "heading",
     "level": 2,
     "metadata": {},
     "source": [
      "Data Types"
     ]
    },
    {
     "cell_type": "heading",
     "level": 3,
     "metadata": {},
     "source": [
      "Primative Data Types"
     ]
    },
    {
     "cell_type": "code",
     "collapsed": false,
     "input": [
      "x = True\n",
      "y = 100 < 10\n",
      "print {x,y}\n",
      "print {x+x, x+y, x*y}"
     ],
     "language": "python",
     "metadata": {},
     "outputs": [
      {
       "output_type": "stream",
       "stream": "stdout",
       "text": [
        "set([False, True])\n",
        "set([0, 1, 2])\n"
       ]
      }
     ],
     "prompt_number": 10
    },
    {
     "cell_type": "code",
     "collapsed": false,
     "input": [
      "a,b = 1,2\n",
      "c,d = 2.5, 10.0\n",
      "print (type(a),type(c))"
     ],
     "language": "python",
     "metadata": {},
     "outputs": [
      {
       "output_type": "stream",
       "stream": "stdout",
       "text": [
        "(<type 'int'>, <type 'float'>)\n"
       ]
      }
     ],
     "prompt_number": 11
    },
    {
     "cell_type": "code",
     "collapsed": false,
     "input": [
      "c1 = complex(1,2)\n",
      "c2 = complex(2,1)\n",
      "print [c1, c2, c1+c2, c1*c2, c1/c2]"
     ],
     "language": "python",
     "metadata": {},
     "outputs": [
      {
       "output_type": "stream",
       "stream": "stdout",
       "text": [
        "[(1+2j), (2+1j), (3+3j), 5j, (0.8+0.6j)]\n"
       ]
      }
     ],
     "prompt_number": 14
    },
    {
     "cell_type": "heading",
     "level": 3,
     "metadata": {},
     "source": [
      "Containers"
     ]
    },
    {
     "cell_type": "markdown",
     "metadata": {},
     "source": [
      "Lists, Tuples, Sets and Dictionaries\n",
      "- Lists : [ * ], mutable\n",
      "- Tuples : ( * ), immutable\n",
      "- Sets : { * }\n",
      "- Dictionaries : { key : item, ... }"
     ]
    },
    {
     "cell_type": "heading",
     "level": 2,
     "metadata": {},
     "source": [
      "Imports"
     ]
    },
    {
     "cell_type": "code",
     "collapsed": false,
     "input": [
      "import math\n",
      "math.sqrt(4)"
     ],
     "language": "python",
     "metadata": {},
     "outputs": [
      {
       "metadata": {},
       "output_type": "pyout",
       "prompt_number": 15,
       "text": [
        "2.0"
       ]
      }
     ],
     "prompt_number": 15
    },
    {
     "cell_type": "code",
     "collapsed": false,
     "input": [
      "from math import *\n",
      "sqrt(4)"
     ],
     "language": "python",
     "metadata": {},
     "outputs": [
      {
       "metadata": {},
       "output_type": "pyout",
       "prompt_number": 16,
       "text": [
        "2.0"
       ]
      }
     ],
     "prompt_number": 16
    },
    {
     "cell_type": "heading",
     "level": 2,
     "metadata": {},
     "source": [
      "Input and Output"
     ]
    },
    {
     "cell_type": "code",
     "collapsed": false,
     "input": [
      "f = open('newfile.txt', 'w') # Open 'newfile.txt' for writing\n",
      "f.write('Testing\\n')\n",
      "f.write('Testing again')\n",
      "f.close()"
     ],
     "language": "python",
     "metadata": {},
     "outputs": [],
     "prompt_number": 17
    },
    {
     "cell_type": "code",
     "collapsed": false,
     "input": [
      "%ls"
     ],
     "language": "python",
     "metadata": {},
     "outputs": [
      {
       "output_type": "stream",
       "stream": "stdout",
       "text": [
        " C \ub4dc\ub77c\uc774\ube0c\uc758 \ubcfc\ub968\uc5d0\ub294 \uc774\ub984\uc774 \uc5c6\uc2b5\ub2c8\ub2e4.\n",
        " \ubcfc\ub968 \uc77c\ub828 \ubc88\ud638: F6C6-095C\n",
        "\n",
        " C:\\WinPython\\WP32bit27_92\\python-2.7.9\\Scripts\\rm_class \ub514\ub809\ud130\ub9ac\n",
        "\n",
        "2015-03-29  \uc624\ud6c4 01:22    <DIR>          .\n",
        "2015-03-29  \uc624\ud6c4 01:22    <DIR>          ..\n",
        "2015-03-28  \uc624\uc804 08:54    <DIR>          .ipynb_checkpoints\n",
        "2015-03-29  \uc624\ud6c4 01:22                22 newfile.txt\n",
        "2015-03-14  \uc624\uc804 08:47           157,626 Python0.ipynb\n",
        "2015-03-21  \uc624\uc804 09:05           588,505 Python1.ipynb\n",
        "2015-03-29  \uc624\ud6c4 01:07           168,100 Python2.ipynb\n",
        "2015-03-27  \uc624\uc804 12:14               974 Untitled0.ipynb\n",
        "2015-03-29  \uc624\ud6c4 01:21             3,539 Untitled1.ipynb\n",
        "               6\uac1c \ud30c\uc77c             918,766 \ubc14\uc774\ud2b8\n",
        "               3\uac1c \ub514\ub809\ud130\ub9ac  321,573,388,288 \ubc14\uc774\ud2b8 \ub0a8\uc74c\n"
       ]
      }
     ],
     "prompt_number": 19
    },
    {
     "cell_type": "code",
     "collapsed": false,
     "input": [
      "import os\n",
      "print os.getcwd()"
     ],
     "language": "python",
     "metadata": {},
     "outputs": [
      {
       "output_type": "stream",
       "stream": "stdout",
       "text": [
        "C:\\WinPython\\WP32bit27_92\\python-2.7.9\\Scripts\\rm_class\n"
       ]
      }
     ],
     "prompt_number": 20
    },
    {
     "cell_type": "code",
     "collapsed": false,
     "input": [
      "%pwd()"
     ],
     "language": "python",
     "metadata": {},
     "outputs": [
      {
       "metadata": {},
       "output_type": "pyout",
       "prompt_number": 23,
       "text": [
        "u'C:\\\\WinPython\\\\WP32bit27_92\\\\python-2.7.9\\\\Scripts\\\\rm_class'"
       ]
      }
     ],
     "prompt_number": 23
    },
    {
     "cell_type": "code",
     "collapsed": false,
     "input": [
      "f = open('newfile.txt', 'r')\n",
      "out = f.read()\n",
      "out"
     ],
     "language": "python",
     "metadata": {},
     "outputs": [
      {
       "metadata": {},
       "output_type": "pyout",
       "prompt_number": 27,
       "text": [
        "'Testing\\nTesting again'"
       ]
      }
     ],
     "prompt_number": 27
    },
    {
     "cell_type": "code",
     "collapsed": false,
     "input": [
      "print out"
     ],
     "language": "python",
     "metadata": {},
     "outputs": [
      {
       "output_type": "stream",
       "stream": "stdout",
       "text": [
        "Testing\n",
        "Testing again\n"
       ]
      }
     ],
     "prompt_number": 28
    },
    {
     "cell_type": "code",
     "collapsed": false,
     "input": [
      "f = open('C:/WinPython/WP32bit27_92/scripts/readme.txt')\n",
      "out = f.read()\n",
      "print out"
     ],
     "language": "python",
     "metadata": {},
     "outputs": [
      {
       "output_type": "stream",
       "stream": "stdout",
       "text": [
        "These batch files are not required to run WinPython.\n",
        "\n",
        "The purpose of these files is to help the user writing his/her own\n",
        "batch file to call Python scripts inside WinPython.\n",
        "The examples here ('spyder.bat', 'spyder_light.bat', 'wppm.bat',\n",
        "'pyqt_demo.bat', 'python.bat' and 'cmd.bat') are quite similar to the\n",
        "launchers located in the parent directory.\n",
        "The environment variables are set-up in 'env.bat'.\n"
       ]
      }
     ],
     "prompt_number": 29
    },
    {
     "cell_type": "code",
     "collapsed": false,
     "input": [
      "f = open('readme.txt')"
     ],
     "language": "python",
     "metadata": {},
     "outputs": [
      {
       "ename": "IOError",
       "evalue": "[Errno 2] No such file or directory: 'readme.txt'",
       "output_type": "pyerr",
       "traceback": [
        "\u001b[1;31m---------------------------------------------------------------------------\u001b[0m\n\u001b[1;31mIOError\u001b[0m                                   Traceback (most recent call last)",
        "\u001b[1;32m<ipython-input-30-5d5b5c97bd33>\u001b[0m in \u001b[0;36m<module>\u001b[1;34m()\u001b[0m\n\u001b[1;32m----> 1\u001b[1;33m \u001b[0mf\u001b[0m \u001b[1;33m=\u001b[0m \u001b[0mopen\u001b[0m\u001b[1;33m(\u001b[0m\u001b[1;34m'readme.txt'\u001b[0m\u001b[1;33m)\u001b[0m\u001b[1;33m\u001b[0m\u001b[0m\n\u001b[0m",
        "\u001b[1;31mIOError\u001b[0m: [Errno 2] No such file or directory: 'readme.txt'"
       ]
      }
     ],
     "prompt_number": 30
    },
    {
     "cell_type": "code",
     "collapsed": false,
     "input": [
      "cd 'C:/WinPython/WP32bit27_92/scripts/'"
     ],
     "language": "python",
     "metadata": {},
     "outputs": [
      {
       "output_type": "stream",
       "stream": "stdout",
       "text": [
        "C:\\WinPython\\WP32bit27_92\\scripts\n"
       ]
      }
     ],
     "prompt_number": 34
    },
    {
     "cell_type": "code",
     "collapsed": false,
     "input": [
      "pwd()"
     ],
     "language": "python",
     "metadata": {},
     "outputs": [
      {
       "metadata": {},
       "output_type": "pyout",
       "prompt_number": 35,
       "text": [
        "u'C:\\\\WinPython\\\\WP32bit27_92\\\\scripts'"
       ]
      }
     ],
     "prompt_number": 35
    },
    {
     "cell_type": "code",
     "collapsed": false,
     "input": [
      "f = open('readme.txt')\n",
      "out = f.read()\n",
      "print out"
     ],
     "language": "python",
     "metadata": {},
     "outputs": [
      {
       "output_type": "stream",
       "stream": "stdout",
       "text": [
        "These batch files are not required to run WinPython.\n",
        "\n",
        "The purpose of these files is to help the user writing his/her own\n",
        "batch file to call Python scripts inside WinPython.\n",
        "The examples here ('spyder.bat', 'spyder_light.bat', 'wppm.bat',\n",
        "'pyqt_demo.bat', 'python.bat' and 'cmd.bat') are quite similar to the\n",
        "launchers located in the parent directory.\n",
        "The environment variables are set-up in 'env.bat'.\n"
       ]
      }
     ],
     "prompt_number": 36
    },
    {
     "cell_type": "code",
     "collapsed": false,
     "input": [
      "%cd 'C:/WinPython/WP32bit27_92/python-2.7.9/Scripts/rm_class'\n",
      "%pwd()"
     ],
     "language": "python",
     "metadata": {},
     "outputs": [
      {
       "output_type": "stream",
       "stream": "stdout",
       "text": [
        "C:\\WinPython\\WP32bit27_92\\python-2.7.9\\Scripts\\rm_class\n"
       ]
      },
      {
       "metadata": {},
       "output_type": "pyout",
       "prompt_number": 41,
       "text": [
        "u'C:\\\\WinPython\\\\WP32bit27_92\\\\python-2.7.9\\\\Scripts\\\\rm_class'"
       ]
      }
     ],
     "prompt_number": 41
    },
    {
     "cell_type": "heading",
     "level": 2,
     "metadata": {},
     "source": [
      "Iterating"
     ]
    },
    {
     "cell_type": "markdown",
     "metadata": {},
     "source": [
      "Python tends to favor looping without explicit indexing\n",
      "(Eg, A file object is iterable)\n",
      "\n",
      "for x in x_values\n",
      "    \n",
      "    do something"
     ]
    },
    {
     "cell_type": "code",
     "collapsed": false,
     "input": [
      "data_file = open('us_cities.txt','r')\n",
      "for line in data_file:\n",
      "    city, population = line.split(':')\n",
      "    city = city.title()\n",
      "    population = 'has {{populaiton}} of {0:,}'.format(int(population))\n",
      "    print(city.ljust(15) + population)\n",
      "   \n",
      "data_file.close()"
     ],
     "language": "python",
     "metadata": {},
     "outputs": [
      {
       "output_type": "stream",
       "stream": "stdout",
       "text": [
        "New York       has {populaiton} of 8,244,910\n",
        "Los Angeles    has {populaiton} of 3,819,702\n",
        "Chicago        has {populaiton} of 2,707,120\n",
        "Houston        has {populaiton} of 2,145,146\n",
        "Philadelphia   has {populaiton} of 1,536,471\n",
        "Phoenix        has {populaiton} of 1,469,471\n",
        "San Antonio    has {populaiton} of 1,359,758\n",
        "San Diego      has {populaiton} of 1,326,179\n",
        "Dallas         has {populaiton} of 1,223,229\n"
       ]
      }
     ],
     "prompt_number": 63
    },
    {
     "cell_type": "markdown",
     "metadata": {},
     "source": [
      "Python provides some facilities to simplify looping without indices\n",
      "\n",
      "One is zip(), which is used for stepping through pairs from two sequences"
     ]
    },
    {
     "cell_type": "code",
     "collapsed": false,
     "input": [
      "countries = ('Japan', 'Korea', 'China')\n",
      "cities = ('Tokyo', 'Seoul', 'Beijing')\n",
      "for country, city in zip(countries, cities):\n",
      "    print 'The capital of {0} is {1}'.format(country, city)"
     ],
     "language": "python",
     "metadata": {},
     "outputs": [
      {
       "output_type": "stream",
       "stream": "stdout",
       "text": [
        "The capital of Japan is Tokyo\n",
        "The capital of Korea is Seoul\n",
        "The capital of China is Beijing\n"
       ]
      }
     ],
     "prompt_number": 64
    },
    {
     "cell_type": "markdown",
     "metadata": {},
     "source": [
      "The zip() function is also useful for creating dictionaries \u2014 for example"
     ]
    },
    {
     "cell_type": "code",
     "collapsed": false,
     "input": [
      "names = ['Tom', 'John']\n",
      "marks = ['E', 'F']\n",
      "dict(zip(names, marks))"
     ],
     "language": "python",
     "metadata": {},
     "outputs": [
      {
       "metadata": {},
       "output_type": "pyout",
       "prompt_number": 65,
       "text": [
        "{'John': 'F', 'Tom': 'E'}"
       ]
      }
     ],
     "prompt_number": 65
    },
    {
     "cell_type": "markdown",
     "metadata": {},
     "source": [
      "If we actually need the index from a list, one option is to use enumerate()\n",
      "\n",
      "To understand what enumerate() does, consider the following example"
     ]
    },
    {
     "cell_type": "code",
     "collapsed": false,
     "input": [
      "letter_list = ['a', 'b', 'c']\n",
      "for index, letter in enumerate(letter_list):\n",
      "    print \"letter_list[{0}] = '{1}'\".format(index, letter)"
     ],
     "language": "python",
     "metadata": {},
     "outputs": [
      {
       "output_type": "stream",
       "stream": "stdout",
       "text": [
        "letter_list[0] = 'a'\n",
        "letter_list[1] = 'b'\n",
        "letter_list[2] = 'c'\n"
       ]
      }
     ],
     "prompt_number": 66
    },
    {
     "cell_type": "heading",
     "level": 2,
     "metadata": {},
     "source": [
      "Comparisons and Logical Operators"
     ]
    },
    {
     "cell_type": "code",
     "collapsed": false,
     "input": [
      "x, y = 1, 2\n",
      "(x < y, x>y, x != 2)"
     ],
     "language": "python",
     "metadata": {},
     "outputs": [
      {
       "metadata": {},
       "output_type": "pyout",
       "prompt_number": 69,
       "text": [
        "(True, False, True)"
       ]
      }
     ],
     "prompt_number": 69
    },
    {
     "cell_type": "code",
     "collapsed": false,
     "input": [
      "[1 < 2 and 'f' in 'foo', 1 < 2 and 'g' in 'foo', 1 < 2 or 'g' in 'foo', not True, not not True]"
     ],
     "language": "python",
     "metadata": {},
     "outputs": [
      {
       "metadata": {},
       "output_type": "pyout",
       "prompt_number": 71,
       "text": [
        "[True, False, True, False, True]"
       ]
      }
     ],
     "prompt_number": 71
    },
    {
     "cell_type": "heading",
     "level": 2,
     "metadata": {},
     "source": [
      "More Functions"
     ]
    },
    {
     "cell_type": "heading",
     "level": 3,
     "metadata": {},
     "source": [
      "The Flexibility of Python Function"
     ]
    },
    {
     "cell_type": "markdown",
     "metadata": {},
     "source": [
      "Python functions are very flexible\n",
      "\n",
      "- Any number of functions can be defined in a given file\n",
      "- Any object can be passed to a function as an argument, including other functions\n",
      "- Functions can be (and often are) defined inside other functions\n",
      "- A function can return any kind of object, including functions\n",
      "\n",
      "Note that a function can have arbitrarily many return statements (including zero)"
     ]
    },
    {
     "cell_type": "heading",
     "level": 3,
     "metadata": {},
     "source": [
      "Docstrings"
     ]
    },
    {
     "cell_type": "code",
     "collapsed": false,
     "input": [
      "max?"
     ],
     "language": "python",
     "metadata": {},
     "outputs": [],
     "prompt_number": 73
    },
    {
     "cell_type": "heading",
     "level": 3,
     "metadata": {},
     "source": [
      "One-Line Functions : lambda"
     ]
    },
    {
     "cell_type": "code",
     "collapsed": false,
     "input": [
      "def f(x):\n",
      "    return x**3\n",
      "lf = lambda x : x**3\n",
      "\n",
      "[f(3), lf(3)]"
     ],
     "language": "python",
     "metadata": {},
     "outputs": [
      {
       "metadata": {},
       "output_type": "pyout",
       "prompt_number": 76,
       "text": [
        "[27, 27]"
       ]
      }
     ],
     "prompt_number": 76
    },
    {
     "cell_type": "code",
     "collapsed": false,
     "input": [
      "from scipy.integrate import quad\n",
      "quad(lambda x: x**3, 0, 2)"
     ],
     "language": "python",
     "metadata": {},
     "outputs": [
      {
       "metadata": {},
       "output_type": "pyout",
       "prompt_number": 75,
       "text": [
        "(4.0, 4.440892098500626e-14)"
       ]
      }
     ],
     "prompt_number": 75
    },
    {
     "cell_type": "code",
     "collapsed": false,
     "input": [],
     "language": "python",
     "metadata": {},
     "outputs": []
    }
   ],
   "metadata": {}
  }
 ]
}