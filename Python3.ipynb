{
 "metadata": {
  "name": "",
  "signature": "sha256:542ed41d7abe891a78de6e9202b75c086eda9cd4ca8d105fa7b432a928ed78bf"
 },
 "nbformat": 3,
 "nbformat_minor": 0,
 "worksheets": [
  {
   "cells": [
    {
     "cell_type": "code",
     "collapsed": false,
     "input": [
      "import quantecon as qe"
     ],
     "language": "python",
     "metadata": {},
     "outputs": [],
     "prompt_number": 2
    },
    {
     "cell_type": "code",
     "collapsed": false,
     "input": [
      "print qe.__version__"
     ],
     "language": "python",
     "metadata": {},
     "outputs": [
      {
       "output_type": "stream",
       "stream": "stdout",
       "text": [
        "0.1.6\n"
       ]
      }
     ],
     "prompt_number": 3
    },
    {
     "cell_type": "code",
     "collapsed": false,
     "input": [
      "%pwd()"
     ],
     "language": "python",
     "metadata": {},
     "outputs": [
      {
       "metadata": {},
       "output_type": "pyout",
       "prompt_number": 1,
       "text": [
        "u'C:\\\\Anaconda\\\\workspace\\\\rm_class'"
       ]
      }
     ],
     "prompt_number": 1
    },
    {
     "cell_type": "code",
     "collapsed": false,
     "input": [
      "%ls"
     ],
     "language": "python",
     "metadata": {},
     "outputs": [
      {
       "output_type": "stream",
       "stream": "stdout",
       "text": [
        " C \ub4dc\ub77c\uc774\ube0c\uc758 \ubcfc\ub968: Windows7\n",
        " \ubcfc\ub968 \uc77c\ub828 \ubc88\ud638: 26FA-DC27\n",
        "\n",
        " C:\\Anaconda\\workspace\\rm_class \ub514\ub809\ud130\ub9ac\n",
        "\n",
        "2015-03-31  \uc624\ud6c4 08:16    <DIR>          .\n",
        "2015-03-31  \uc624\ud6c4 08:16    <DIR>          ..\n",
        "2015-03-31  \uc624\ud6c4 08:18    <DIR>          .ipynb_checkpoints\n",
        "2015-03-31  \uc624\uc804 07:23               688 chaos_class.py\n",
        "2015-03-31  \uc624\uc804 07:23             1,977 market.py\n",
        "2015-03-31  \uc624\uc804 07:23           157,626 Python0.ipynb\n",
        "2015-03-31  \uc624\uc804 07:23           588,505 Python1.ipynb\n",
        "2015-03-31  \uc624\uc804 07:23           168,100 Python2.ipynb\n",
        "2015-03-31  \uc624\uc804 07:23               974 Python3.ipynb\n",
        "2015-03-31  \uc624\ud6c4 08:25             1,474 Python4.ipynb\n",
        "2015-03-31  \uc624\uc804 07:23             1,403 solow.py\n",
        "2015-03-31  \uc624\uc804 07:23               176 us_cities.txt\n",
        "               9\uac1c \ud30c\uc77c             920,923 \ubc14\uc774\ud2b8\n",
        "               3\uac1c \ub514\ub809\ud130\ub9ac  61,348,364,288 \ubc14\uc774\ud2b8 \ub0a8\uc74c\n"
       ]
      }
     ],
     "prompt_number": 2
    },
    {
     "cell_type": "code",
     "collapsed": false,
     "input": [],
     "language": "python",
     "metadata": {},
     "outputs": []
    }
   ],
   "metadata": {}
  }
 ]
}